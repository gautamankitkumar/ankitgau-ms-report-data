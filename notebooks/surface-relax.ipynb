{
 "cells": [
  {
   "cell_type": "markdown",
   "metadata": {},
   "source": [
    "<a href=\"https://colab.research.google.com/github/gautamankitkumar/ankitgau-ms-report-data/blob/main/notebooks/surface-relax.ipynb\" target=\"_parent\"><img src=\"https://colab.research.google.com/assets/colab-badge.svg\" alt=\"Open In Colab\"/></a>"
   ]
  },
  {
   "cell_type": "markdown",
   "metadata": {},
   "source": [
    "# Goal\n",
    "\n",
    "The aim of this exercise is to check Neural Network (trained on unrelaxed structures) performance on DFT relaxed segregation energy of atomic swaps.\n",
    "\n",
    "Neural Network is only checked for the case of Ag-Au swaps. Thus, a 2 x 2 x 5 slab is setup with a random but 1:1:1 composition of CuAgAu fixed at its calculated lattice constant via Vegard's law. Top two layers (8 atoms) are allowed to relax. These 8 atoms would form 256 possible combinations. Each of these have a distinct energy as enumerated by `EMT()`. "
   ]
  },
  {
   "cell_type": "markdown",
   "metadata": {},
   "source": [
    "# Procedure\n",
    "\n",
    "1. Create 256 structures with possible AgAu positions.\n",
    "2. Find energy of the structures with top two layers relaxed.\n",
    "3. Compare NN predicted $\\Delta E$ and DFT Relaxed $\\Delta E$\n",
    "\n",
    "## Note: Current results are for only 50 out of 256 structures"
   ]
  },
  {
   "cell_type": "code",
   "execution_count": null,
   "metadata": {},
   "outputs": [],
   "source": [
    "! pip install ase\n",
    "! git clone https://github.com/gautamankitkumar/ankitgau-ms-report-data.git\n",
    "% cd ankitgau-ms-report-data\n",
    "% cd notebooks\n",
    "% cd utils\n",
    "! python3 libsymf_builder.py\n",
    "% cd ..\n",
    "% cd ..\n",
    "% cp data/local.db notebooks/\n",
    "% cp data/small_list.txt notebooks/\n",
    "% cp data/relax-energies.db notebooks/\n",
    "% cd notebooks"
   ]
  },
  {
   "cell_type": "code",
   "execution_count": 1,
   "metadata": {
    "tags": []
   },
   "outputs": [],
   "source": [
    "import numpy as np\n",
    "import matplotlib.pyplot as plt\n",
    "from ase.build import fcc111, fcc111_root\n",
    "from ase.calculators.emt import EMT\n",
    "import os\n",
    "import torch\n",
    "from utils.fcc_helpers import cal_nrg\n",
    "from utils.train_agent import BPNN\n",
    "from utils.fp_calculator import set_sym\n",
    "from itertools import product\n",
    "\n",
    "# This is needed for the error as the bug shown\n",
    "# https://github.com/dmlc/xgboost/issues/1715#issuecomment-420305786\n",
    "os.environ['KMP_DUPLICATE_LIB_OK']='True'\n",
    "\n",
    "from ase.db import connect"
   ]
  },
  {
   "cell_type": "markdown",
   "metadata": {},
   "source": [
    "## Find energy unique structures"
   ]
  },
  {
   "cell_type": "code",
   "execution_count": null,
   "metadata": {
    "scrolled": true
   },
   "outputs": [],
   "source": [
    "# bulk spacing\n",
    "lc_Cu, lc_Ag, lc_Au = 3.6387, 4.1628, 4.1733\n",
    "lc = (lc_Cu + lc_Au + lc_Ag)/3\n",
    "print(lc)\n",
    "\n",
    "slab = fcc111('Ag', size=(2,2,5),a =lc, vacuum= 10.0)\n",
    "\n",
    "# Bottom layers has already been randomized and fixed at same composition.\n",
    "bottom_layers = ['Cu', 'Au', 'Ag', 'Cu', 'Ag', 'Au', 'Cu', 'Ag', 'Cu', 'Au', 'Ag', 'Au']\n",
    "\n",
    "for i in range(len(bottom_layers)):\n",
    "    slab[i].symbol = bottom_layers[i]\n",
    "\n",
    "nrg_list = []\n",
    "\n",
    "if os.path.exists('local.db'):\n",
    "    os.remove('local.db')\n",
    "\n",
    "db = connect('local.db')\n",
    "\n",
    "comps = []\n",
    "for i, c in enumerate(product(['Au','Ag'], repeat=8)):\n",
    "    new_slab = slab.copy()\n",
    "    for j, s in enumerate(range(12,20)):\n",
    "        new_slab[s].symbol = c[j]\n",
    "    \n",
    "    new_slab.set_calculator(EMT())\n",
    "    new_slab_en = new_slab.get_potential_energy()\n",
    "    if (new_slab_en not in nrg_list):\n",
    "        nrg_list.append(new_slab_en)\n",
    "        db.write(atoms=new_slab)\n",
    "\n",
    "print(len(nrg_list)) # 256"
   ]
  },
  {
   "cell_type": "code",
   "execution_count": null,
   "metadata": {
    "tags": []
   },
   "outputs": [],
   "source": [
    "def isNeighbor(x,y):\n",
    "    \"\"\"\n",
    "    Determines if structure-x and structure-y are swap-neighbors\n",
    "    \n",
    "    Swap neighbors are defined as structures differing at exactly two positions. These two positions define the starting and ending position of a swap\n",
    "    Given two lists of chemical symbols, returns True if one Ag atom can be swapped with its neighbors to achieve the second structure\n",
    "    x: atoms object\n",
    "    y: atoms object\n",
    "    \"\"\"\n",
    "    \n",
    "    # Get symbols\n",
    "    x_sym = x.get_chemical_symbols()[12:]\n",
    "    y_sym = y.get_chemical_symbols()[12:]\n",
    "    \n",
    "    # Compositions do not change because of swap\n",
    "    if x_sym.count('Ag')==y_sym.count('Ag'):\n",
    "        ans = np.array(x_sym) != np.array(y_sym)\n",
    "        \n",
    "        # Symbols should only differ at exactly two positions\n",
    "        if ans.sum()==2:\n",
    "            return True , np.where(ans==1)[0].tolist()\n",
    "        else:\n",
    "            return False , 0\n",
    "    else:\n",
    "        return False, 0\n",
    "\n",
    "# Contains all swap neighbors. 1792 combinations \n",
    "big_list = []\n",
    "\n",
    "# Contains swap neighbors where both structures are within the first 50 out of 256.\n",
    "# Contains 166 combinations\n",
    "small_list = []\n",
    "\n",
    "for i in range(len(db)):\n",
    "    for j in range(i+1,len(db)):\n",
    "        res,val = isNeighbor(db.get_atoms(id=i+1),db.get_atoms(id=j+1))\n",
    "        if res:\n",
    "            if [i,j,*val] not in big_list:\n",
    "                big_list.append([i,j,*val])\n",
    "                if i < 50 and j < 50:\n",
    "                    small_list.append([i,j,*val])\n",
    "print(f'Combinations in only first 50/256 : {len(small_list):.0f}, All combinations {len(big_list):.0f}')"
   ]
  },
  {
   "cell_type": "code",
   "execution_count": 2,
   "metadata": {
    "tags": []
   },
   "outputs": [],
   "source": [
    "# Neural Network settings\n",
    "Name = 'CuAgAu'\n",
    "scale = torch.load(f'./{Name}/scale.sav')\n",
    "layer_nodes = [10, 10]\n",
    "activations = ['tanh', 'tanh']\n",
    "elements_i = [29, 47, 79]\n",
    "n_fp = 12\n",
    "models = [BPNN(n_fp, layer_nodes, activations) for _ in elements_i]\n",
    "model_paths = [f'./{Name}/model_for_{i}.sav' for i in elements_i]\n",
    "for i in range(len(models)):\n",
    "    models[i].load_state_dict(torch.load(model_paths[i], map_location=torch.device('cpu')))\n",
    "elements = ['Cu', 'Ag', 'Au']  # [1, 2, 3 in the param_set]\n",
    "Gs = [2]\n",
    "cutoff = 6.0\n",
    "g2_etas = [0.05, 4.0, 20.0, 80.0]\n",
    "g2_Rses = [0.0]\n",
    "params_set = set_sym(elements, Gs, cutoff, g2_etas=g2_etas, g2_Rses=g2_Rses)"
   ]
  },
  {
   "cell_type": "markdown",
   "metadata": {},
   "source": [
    "## Find difference in energies "
   ]
  },
  {
   "cell_type": "code",
   "execution_count": 3,
   "metadata": {},
   "outputs": [],
   "source": [
    "db_dft = connect ('relax-energies.db') # Contains relaxed structures energies\n",
    "nn_db = connect('local.db') # Contains the possible 256 structures\n",
    "\n",
    "Z = np.loadtxt('small_list.txt')\n",
    "\n",
    "en = []\n",
    "layer1_dft = []\n",
    "layer2_dft = []\n",
    "\n",
    "\n",
    "for [i,j,ele1,ele2] in Z:\n",
    "    ref_en = db_dft.get_atoms(id=j+1).get_potential_energy() - db_dft.get_atoms(id=i+1).get_potential_energy()\n",
    "    atoms = nn_db.get_atoms(id=j+1)\n",
    "    nn_1 =  cal_nrg(models,atoms , params_set, elements, scale)\n",
    "    atoms = nn_db.get_atoms(id=i+1)\n",
    "    nn_2 =  cal_nrg(models, atoms, params_set, elements, scale)\n",
    "    nn_en = nn_1 - nn_2\n",
    "    en.append([ref_en,nn_en,ref_en - nn_en])\n",
    "    \n",
    "    # If the swap occurs within two layers. i.e. the starting and ending position are in two different layers\n",
    "    \n",
    "    # Inter-layer swap\n",
    "    if (ele1<=3 and ele2>=4) or (ele1>=4 and ele2<=3):\n",
    "        layer1_dft.append(np.sign(ref_en) * np.sign(nn_en))\n",
    "    else:\n",
    "        # Intra-layer swap\n",
    "        layer2_dft.append(np.sign(ref_en) * np.sign(nn_en))"
   ]
  },
  {
   "cell_type": "markdown",
   "metadata": {},
   "source": [
    "# Results"
   ]
  },
  {
   "cell_type": "markdown",
   "metadata": {},
   "source": [
    "For each swap that is possible, find relaxed DFT energy and NN predicted energy."
   ]
  },
  {
   "cell_type": "code",
   "execution_count": 10,
   "metadata": {},
   "outputs": [
    {
     "data": {
      "image/png": "[encoded data removed]",
      "text/plain": [
       "<Figure size 576x432 with 3 Axes>"
      ]
     },
     "metadata": {
      "needs_background": "light"
     },
     "output_type": "display_data"
    }
   ],
   "source": [
    "e = np.array(en)\n",
    "fig, (ax1, ax2, ax3) = plt.subplots(1, 3, sharey=True,figsize=(8,6))\n",
    "\n",
    "SMALL_SIZE = 12\n",
    "MEDIUM_SIZE = 14\n",
    "BIGGER_SIZE = 16\n",
    "\n",
    "plt.rc('font', size=SMALL_SIZE)          # controls default text sizes\n",
    "plt.rc('axes', titlesize=SMALL_SIZE)     # fontsize of the axes title\n",
    "plt.rc('axes', labelsize=MEDIUM_SIZE)    # fontsize of the x and y labels\n",
    "plt.rc('xtick', labelsize=SMALL_SIZE)    # fontsize of the tick labels\n",
    "plt.rc('ytick', labelsize=SMALL_SIZE)    # fontsize of the tick labels\n",
    "plt.rc('legend', fontsize=SMALL_SIZE)    # legend fontsize\n",
    "plt.rc('figure', titlesize=BIGGER_SIZE)  # fontsize of the figure title\n",
    "\n",
    "\n",
    "ax1.plot(e[:,0],'o')\n",
    "ax1.axhline(0,ls='--',color='k')\n",
    "ax2.plot(e[:,1],'o')\n",
    "ax2.axhline(0,ls='--',color='k')\n",
    "ax3.plot(e[:,2],'o')\n",
    "ax3.axhline(0,ls='--',color='k')\n",
    "ax1.set_ylabel(r'$\\Delta E$ for swap (eV)')\n",
    "ax1.set_title(r'DFT $\\Delta E$')\n",
    "ax2.set_title(r'NN $\\Delta E$')\n",
    "ax3.set_title(r'DFT $\\Delta E$ - NN $\\Delta E$ ')\n",
    "ax1.set_xlabel('ID'),ax2.set_xlabel('ID'), ax3.set_xlabel('ID')\n",
    "fig.suptitle(r'Comparing DFT relaxed and NN predicted swap $\\Delta E$')\n",
    "plt.savefig('energy-comparison.png', dpi=300)"
   ]
  },
  {
   "cell_type": "markdown",
   "metadata": {},
   "source": [
    "Atomic swap energies for AgAu vary from 0.05 eV to -0.25 eV. Yilin observed range of -0.5 eV to 1 eV for PdCu. The smaller range of AgAu is expected since this binary pair shows a lower segregation energy than that of PdCu. DFT $\\Delta E$ is fairly random around the zero line. This is only a subset of all possible combinations. Neural Network $\\Delta E$'s are more ordered. I expected this to happen becaue having a similar (symmetric, for example) environment would activate those specific nodes in the Neural Network. Neural Network predictions vary roughly around the same magnitude as that seen in DFT.\n",
    "\n",
    "Lastly, the individual differences are plotted. We see that most of the points lie below the axis. I believe this is because the first 50 configurations are Au dominated as the structures are created by `itertools.product` enumeration. It may have happened a lot these correspond to Au segregation. I expect that third plot to be randomly distributed around the `y=0` line when plotted for all the configurations."
   ]
  },
  {
   "cell_type": "markdown",
   "metadata": {},
   "source": [
    "# Inter and Intra layer predictions\n",
    "\n",
    "Individual corrections do not provide the most useful results. To see the effect on segregation, inter-layer and intra-layer segregation is obtained. For example, inter-layer exchange would occur when start and end of atomic swap reside in different layers (Layer-1 and Layer-2 in this case). I have plotted `sign(DFT) * sign(NN)` where `sign` is the `signum` function. This product of signum's would allow us to see whether DFT and NN prediction lie on the same side of `y=0`. If both are negative or positive, we expect a positive product. If they do not share the same sign, this means that a negative product is obtained.\n",
    "\n",
    "Plot-1 shows inter-layer signum product. Nearly all of the energy swaps are predicted with a correct sign by Neural Network. Only 2 out of 176 are predicted incorrectly. This goes on to say that the sign of atomic swap energy change that would have occurred if we had employed relaxed DFT calculations, is being captured correctly by our Neural Network. Consequently, the Neural Network actually replicates the atomic swap energies in Monte Carlo simulations. \n",
    "\n",
    "Plot-2 shows intra-layer exchange. There exists almost half of the points on either side of `y=0`. This result doesn't change any of the segregation trend since the swaps occur within a single layer."
   ]
  },
  {
   "cell_type": "code",
   "execution_count": 8,
   "metadata": {},
   "outputs": [
    {
     "name": "stdout",
     "output_type": "stream",
     "text": [
      "78\n"
     ]
    },
    {
     "data": {
      "image/png": "[encoded data removed]",
      "text/plain": [
       "<Figure size 720x432 with 2 Axes>"
      ]
     },
     "metadata": {
      "needs_background": "light"
     },
     "output_type": "display_data"
    }
   ],
   "source": [
    "print(len(layer1_dft))\n",
    "lay1,lay2 = np.array(layer1_dft), np.array(layer2_dft)\n",
    "f, (ax1, ax2) = plt.subplots(1, 2,figsize=(10,6))\n",
    "ax1.plot(layer1_dft,'.')\n",
    "ax2.plot(layer2_dft,'.')\n",
    "ax1.set_title(r'Inter layer exchange')\n",
    "ax2.set_title(r'Intra Layer exchange')\n",
    "ax1.set_xlabel('ID'),ax2.set_xlabel('ID')\n",
    "f.suptitle(r'sign(DFT $\\Delta E$) $\\times$ sign(NN $\\Delta E$)')\n",
    "plt.show()"
   ]
  },
  {
   "cell_type": "markdown",
   "metadata": {},
   "source": [
    "# Conclusion\n",
    "\n",
    "With the 50 configurations out of 256 possible AgAu combinations in top two layers of 2 x 2 x 5 slab, 176 out of 1792 atomic swaps are analyzed and the swap energies compared. It is observed that Neural Network trained on unrelaxed configurations accurately captures the same sign trend as would have occurred in relaxed DFT energy swaps. With more of the data available, the result can be strengthened even more."
   ]
  }
 ],
 "metadata": {
  "kernelspec": {
   "display_name": "Python [conda env:anaconda3]",
   "language": "python",
   "name": "conda-env-anaconda3-py"
  },
  "language_info": {
   "codemirror_mode": {
    "name": "ipython",
    "version": 3
   },
   "file_extension": ".py",
   "mimetype": "text/x-python",
   "name": "python",
   "nbconvert_exporter": "python",
   "pygments_lexer": "ipython3",
   "version": "3.7.9"
  }
 },
 "nbformat": 4,
 "nbformat_minor": 4
}
