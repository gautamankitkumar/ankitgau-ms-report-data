{
 "cells": [
  {
   "cell_type": "code",
   "execution_count": null,
   "metadata": {},
   "outputs": [],
   "source": [
    "! pip install ase\n",
    "! pip install torch==1.7.0+cpu torchvision==0.8.1+cpu torchaudio==0.7.0 -f https://download.pytorch.org/whl/torch_stable.html"
   ]
  },
  {
   "cell_type": "code",
   "execution_count": null,
   "metadata": {},
   "outputs": [],
   "source": [
    "! git clone https://github.com/gautamankitkumar/ankitgau-ms-report-data.git"
   ]
  },
  {
   "cell_type": "code",
   "execution_count": null,
   "metadata": {},
   "outputs": [],
   "source": [
    "% cd ankitgau-ms-report\n",
    "% cd utils\n",
    "! python3 libsymf_builder.py\n",
    "% cd .."
   ]
  },
  {
   "cell_type": "code",
   "execution_count": null,
   "metadata": {},
   "outputs": [],
   "source": [
    "import os\n",
    "import torch\n",
    "import numpy as np\n",
    "from ase.db import connect\n",
    "from utils.fcc_helpers import cal_nrg\n",
    "from utils.train_agent import BPNN\n",
    "from utils.fp_calculator import set_sym\n",
    "from ase.build import fcc111\n",
    "import matplotlib.pyplot as plt\n",
    "\n",
    "m = 1\n",
    "n = 4000\n",
    "np.random.seed(seed=42)\n",
    "\n",
    "full_data = connect('./datasets/CuAgAu.db')"
   ]
  }
 ],
 "metadata": {
  "kernelspec": {
   "display_name": "Python 3",
   "language": "python",
   "name": "python3"
  },
  "language_info": {
   "codemirror_mode": {
    "name": "ipython",
    "version": 3
   },
   "file_extension": ".py",
   "mimetype": "text/x-python",
   "name": "python",
   "nbconvert_exporter": "python",
   "pygments_lexer": "ipython3",
   "version": "3.7.9"
  }
 },
 "nbformat": 4,
 "nbformat_minor": 4
}
